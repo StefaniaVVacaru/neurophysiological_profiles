{
 "cells": [
  {
   "cell_type": "markdown",
   "id": "64c9d09f",
   "metadata": {},
   "source": [
    "# Reformat final dataset\n",
    "\n",
    "Purpose of this notebook is to re-format the final ECG and EDA datasets from long into wide format"
   ]
  },
  {
   "cell_type": "markdown",
   "id": "26f2918b",
   "metadata": {},
   "source": [
    "## Imports"
   ]
  },
  {
   "cell_type": "code",
   "execution_count": null,
   "id": "3140a0de",
   "metadata": {},
   "outputs": [],
   "source": [
    "# fmt: off\n",
    "import os\n",
    "from pathlib import Path\n",
    "import numpy as np\n",
    "import pandas as pd\n",
    "# fmt: on"
   ]
  },
  {
   "cell_type": "markdown",
   "id": "c62970a6",
   "metadata": {},
   "source": [
    "## Parameters"
   ]
  },
  {
   "cell_type": "code",
   "execution_count": null,
   "id": "fc8eda3e",
   "metadata": {},
   "outputs": [],
   "source": [
    "DATA_DIR = Path().cwd().parent / \"data\"\n",
    "FINAL_DATA_DIR = DATA_DIR / \"final\"\n",
    "BEHAVIORAL_DATA_DIR = DATA_DIR / \"behavioral\""
   ]
  },
  {
   "cell_type": "markdown",
   "id": "cf57760f",
   "metadata": {},
   "source": [
    "## Support Functions"
   ]
  },
  {
   "cell_type": "code",
   "execution_count": null,
   "id": "0181c0aa",
   "metadata": {},
   "outputs": [],
   "source": [
    "def prettify_pivot_colnames(df: pd.DataFrame) -> pd.DataFrame:\n",
    "    df.columns = [\n",
    "        f\"{var}_{segment}\" for var, segment in df.columns\n",
    "    ]\n",
    "    return df\n",
    "\n",
    "\n",
    "def map_segment_story_code(row: pd.Series) -> str:\n",
    "    if row[\"segment_name\"] == \"Story 1\":\n",
    "        return row[\"STORY1NAME\"]\n",
    "    elif row[\"segment_name\"] == \"Story 2\":\n",
    "        return row[\"STORY2NAME\"]\n",
    "    elif row[\"segment_name\"] == \"Story 3\":\n",
    "        return row[\"STORY3NAME\"]\n",
    "    elif row[\"segment_name\"] == \"Story 4\":\n",
    "        return row[\"STORY4NAME\"]\n",
    "    elif row[\"segment_name\"] == \"Story 5\":\n",
    "        return row[\"STORY5NAME\"]\n",
    "    else:\n",
    "        return np.nan\n",
    "    \n",
    "def map_segment_story_score(row: pd.Series) -> str:\n",
    "    if row[\"segment_name\"] == \"Story 1\":\n",
    "        return np.nan\n",
    "    elif row[\"segment_name\"] == \"Story 2\":\n",
    "        return row[\"Story2_Score\"]\n",
    "    elif row[\"segment_name\"] == \"Story 3\":\n",
    "        return row[\"Story3_Score\"]\n",
    "    elif row[\"segment_name\"] == \"Story 4\":\n",
    "        return row[\"Story4_Score\"]\n",
    "    elif row[\"segment_name\"] == \"Story 5\":\n",
    "        return row[\"Story5_Score\"]\n",
    "    else:\n",
    "        return np.nan"
   ]
  },
  {
   "cell_type": "markdown",
   "id": "74db17b5",
   "metadata": {},
   "source": [
    "# Restructure ECG data"
   ]
  },
  {
   "cell_type": "markdown",
   "id": "f209627f",
   "metadata": {},
   "source": [
    "### Load required datasets"
   ]
  },
  {
   "cell_type": "code",
   "execution_count": null,
   "id": "c96c74ee",
   "metadata": {},
   "outputs": [],
   "source": [
    "extra_df = pd.read_excel(BEHAVIORAL_DATA_DIR / \"filtered_data_v3 (with ASAs).xlsx\")\n",
    "print(f\"{extra_df.shape = }\")\n",
    "extra_df.head(3)\n"
   ]
  },
  {
   "cell_type": "code",
   "execution_count": null,
   "id": "a95f0e33",
   "metadata": {},
   "outputs": [],
   "source": [
    "ecg_long_df = pd.read_excel(FINAL_DATA_DIR / \"ecg_metrics\" / \"group_level_blc_ecg_metrics.xlsx\").drop(columns = [\"Unnamed: 0\"])\n",
    "print(f\"{ecg_long_df.shape = }\")\n",
    "ecg_long_df.head(2)\n"
   ]
  },
  {
   "cell_type": "markdown",
   "id": "d4e7d244",
   "metadata": {},
   "source": [
    "### Re-format column names"
   ]
  },
  {
   "cell_type": "code",
   "execution_count": null,
   "id": "b6063931",
   "metadata": {},
   "outputs": [],
   "source": [
    "story_segment_df = ecg_long_df[[\"segment_name\", \"subject_id\"]].merge(\n",
    "    extra_df[[\"ParticipantID\", \"STORY1NAME\", \"STORY2NAME\", \"STORY3NAME\", \"STORY4NAME\", \"STORY5NAME\", \"Story2_Score\", \"Story3_Score\", \"Story4_Score\", \"Story5_Score\"]],\n",
    "    left_on = [\"subject_id\"],\n",
    "    right_on = [\"ParticipantID\"],\n",
    "    how = \"right\"\n",
    ")\n",
    "# story_segment_df\n",
    "story_segment_df.loc[:, \"story_order\"] = story_segment_df['segment_name']\n",
    "story_segment_df.loc[:, \"story_score\"] = story_segment_df.apply(map_segment_story_score, axis=1)\n",
    "story_segment_df.loc[:, \"segment_name\"] = story_segment_df.apply(map_segment_story_code, axis=1)\n",
    "story_segment_df.head(3)"
   ]
  },
  {
   "cell_type": "code",
   "execution_count": null,
   "id": "d166e3e7",
   "metadata": {},
   "outputs": [],
   "source": [
    "cleaned_ecg_long_df = (\n",
    "    ecg_long_df\n",
    "    # \n",
    "    .merge(story_segment_df[[\"segment_name\", \"subject_id\", \"story_order\", \"story_score\"]], \n",
    "           left_on=[\"segment_name\", \"subject_id\"], \n",
    "           right_on=[\"story_order\", \"subject_id\"],\n",
    "           how=\"inner\")\n",
    "    .drop(columns=[\"segment_name_x\"])\n",
    "    .rename(columns = {\"segment_name_y\": \"story_name\"})\n",
    ")\n",
    "cleaned_ecg_long_df.head()"
   ]
  },
  {
   "cell_type": "markdown",
   "id": "3165e2cb",
   "metadata": {},
   "source": [
    "### Pivot"
   ]
  },
  {
   "cell_type": "code",
   "execution_count": null,
   "id": "f66ec73c",
   "metadata": {},
   "outputs": [],
   "source": [
    "pivot_df = (\n",
    "    cleaned_ecg_long_df\n",
    "    .pivot(index = \"subject_id\", columns=[\"story_name\"], values=[\n",
    "        \"HRV_SDNN_baseline\", \"HRV_SDNN_corrected\", \n",
    "        \"RSA_PorgesBohrer_baseline\", \"RSA_PorgesBohrer_corrected\",\n",
    "        \"heart_rate_bpm\", \"heart_rate_bpm_corrected\",\n",
    "        \"story_score\"])\n",
    "    )\n",
    "pivot_df"
   ]
  },
  {
   "cell_type": "markdown",
   "id": "b4fcea1a",
   "metadata": {},
   "source": [
    "### Combine AC and BH into ACBH"
   ]
  },
  {
   "cell_type": "code",
   "execution_count": null,
   "id": "b869049b",
   "metadata": {},
   "outputs": [],
   "source": [
    "story_pair = ('AC', 'BH')\n",
    "new_story = 'ACBH'\n",
    "\n",
    "# Select only top-level columns (the metrics)\n",
    "metrics = pivot_df.columns.levels[0]\n",
    "\n",
    "for metric in metrics:\n",
    "    if story_pair[0] in pivot_df[metric] or story_pair[1] in pivot_df[metric]:\n",
    "        pivot_df[(metric, new_story)] = pivot_df[(metric, story_pair[1])].combine_first(\n",
    "            pivot_df[(metric, story_pair[0])]\n",
    "        )\n",
    "        pivot_df = pivot_df.drop(columns=[(metric, story_pair[0]), (metric, story_pair[1])])\n",
    "pivot_df.head(5)"
   ]
  },
  {
   "cell_type": "markdown",
   "id": "22670bd7",
   "metadata": {},
   "source": [
    "### Prettify colnames"
   ]
  },
  {
   "cell_type": "code",
   "execution_count": null,
   "id": "7d5d537c",
   "metadata": {},
   "outputs": [],
   "source": [
    "ecg_wide_df = prettify_pivot_colnames(pivot_df)\n",
    "ecg_wide_df"
   ]
  },
  {
   "cell_type": "markdown",
   "id": "e6e59993",
   "metadata": {},
   "source": [
    "# Restructure EDA data"
   ]
  },
  {
   "cell_type": "code",
   "execution_count": null,
   "id": "54b06722",
   "metadata": {},
   "outputs": [],
   "source": [
    "extra_df = pd.read_excel(BEHAVIORAL_DATA_DIR / \"filtered_data_v3 (with ASAs).xlsx\")\n",
    "print(f\"{extra_df.shape = }\")\n",
    "extra_df.head(3)"
   ]
  },
  {
   "cell_type": "code",
   "execution_count": null,
   "id": "bd799ccb",
   "metadata": {},
   "outputs": [],
   "source": [
    "eda_long_df = pd.read_excel(FINAL_DATA_DIR / \"eda_features\" / \"group_level_blc_eda_features.xlsx\").drop(columns = [\"Unnamed: 0\"])\n",
    "print(f\"{eda_long_df.shape = }\")\n",
    "eda_long_df.head(2)\n"
   ]
  },
  {
   "cell_type": "markdown",
   "id": "7e79b858",
   "metadata": {},
   "source": [
    "### Re-format column names"
   ]
  },
  {
   "cell_type": "code",
   "execution_count": null,
   "id": "3a476360",
   "metadata": {},
   "outputs": [],
   "source": [
    "story_segment_df = eda_long_df[[\"segment_name\", \"subject_id\"]].merge(\n",
    "    extra_df[[\"ParticipantID\", \"STORY1NAME\", \"STORY2NAME\", \"STORY3NAME\", \"STORY4NAME\", \"STORY5NAME\", \"Story2_Score\", \"Story3_Score\", \"Story4_Score\", \"Story5_Score\"]],\n",
    "    left_on = [\"subject_id\"],\n",
    "    right_on = [\"ParticipantID\"],\n",
    "    how = \"right\"\n",
    ")\n",
    "# story_segment_df\n",
    "story_segment_df.loc[:, \"story_order\"] = story_segment_df['segment_name']\n",
    "story_segment_df.loc[:, \"story_score\"] = story_segment_df.apply(map_segment_story_score, axis=1)\n",
    "story_segment_df.loc[:, \"segment_name\"] = story_segment_df.apply(map_segment_story_code, axis=1)\n",
    "story_segment_df.head(3)"
   ]
  },
  {
   "cell_type": "code",
   "execution_count": null,
   "id": "18775eec",
   "metadata": {},
   "outputs": [],
   "source": [
    "cleaned_eda_long_df = (\n",
    "    eda_long_df\n",
    "    # \n",
    "    .merge(story_segment_df[[\"segment_name\", \"subject_id\", \"story_order\", \"story_score\"]], \n",
    "           left_on=[\"segment_name\", \"subject_id\"], \n",
    "           right_on=[\"story_order\", \"subject_id\"],\n",
    "           how=\"inner\")\n",
    "    .drop(columns=[\"segment_name_x\"])\n",
    "    .rename(columns = {\"segment_name_y\": \"story_name\"})\n",
    ")\n",
    "cleaned_eda_long_df.head(10)"
   ]
  },
  {
   "cell_type": "markdown",
   "id": "914cabe5",
   "metadata": {},
   "source": [
    "### Pivot"
   ]
  },
  {
   "cell_type": "code",
   "execution_count": null,
   "id": "f6d0371e",
   "metadata": {},
   "outputs": [],
   "source": [
    "pivot_df = (\n",
    "    cleaned_eda_long_df\n",
    "    .pivot(index = \"subject_id\", columns=[\"story_name\"], values=[\n",
    "        \"EDA_Tonic_Mean_baseline\", \"EDA_Tonic_Mean_blc\", \n",
    "        \"SCR_Peaks_N_per_seconds_baseline\", \"SCR_Peaks_N_per_seconds_blc\", \n",
    "        \"SCR_Peaks_Amplitude_Mean_baseline\", \"SCR_Peaks_Amplitude_Mean_blc\", \"story_score\"])\n",
    "    )\n",
    "pivot_df"
   ]
  },
  {
   "cell_type": "markdown",
   "id": "ea81804a",
   "metadata": {},
   "source": [
    "### Combine AC and BH into ACBH"
   ]
  },
  {
   "cell_type": "code",
   "execution_count": null,
   "id": "1adf48ca",
   "metadata": {},
   "outputs": [],
   "source": [
    "story_pair = ('AC', 'BH')\n",
    "new_story = 'ACBH'\n",
    "\n",
    "# Select only top-level columns (the metrics)\n",
    "metrics = pivot_df.columns.levels[0]\n",
    "\n",
    "for metric in metrics:\n",
    "    if story_pair[0] in pivot_df[metric] or story_pair[1] in pivot_df[metric]:\n",
    "        pivot_df[(metric, new_story)] = pivot_df[(metric, story_pair[1])].combine_first(\n",
    "            pivot_df[(metric, story_pair[0])]\n",
    "        )\n",
    "        pivot_df = pivot_df.drop(columns=[(metric, story_pair[0]), (metric, story_pair[1])])\n",
    "pivot_df.head(5)"
   ]
  },
  {
   "cell_type": "markdown",
   "id": "bb2bac1a",
   "metadata": {},
   "source": [
    "### Prettify colnames"
   ]
  },
  {
   "cell_type": "code",
   "execution_count": null,
   "id": "22708cb3",
   "metadata": {},
   "outputs": [],
   "source": [
    "eda_wide_df = prettify_pivot_colnames(pivot_df)\n",
    "eda_wide_df"
   ]
  },
  {
   "cell_type": "markdown",
   "id": "951e58e1",
   "metadata": {},
   "source": [
    "# Merge pivotted data with behavioral extra data"
   ]
  },
  {
   "cell_type": "code",
   "execution_count": null,
   "id": "77bdea20",
   "metadata": {},
   "outputs": [],
   "source": [
    "final_df = (\n",
    "    extra_df\n",
    "    .merge(ecg_wide_df, left_on = \"ParticipantID\", right_on = \"subject_id\", how = \"left\")\n",
    "    .merge(eda_wide_df.drop(columns = ['story_score_AS','story_score_NITP', 'story_score_SFT', 'story_score_SG', \"story_score_ACBH\"]), left_on = \"ParticipantID\", right_on = \"subject_id\", how = \"left\")\n",
    ")\n",
    "\n",
    "final_df"
   ]
  },
  {
   "cell_type": "markdown",
   "id": "bfc94a00",
   "metadata": {},
   "source": [
    "# Sanity checks"
   ]
  },
  {
   "cell_type": "code",
   "execution_count": null,
   "id": "51f9b666",
   "metadata": {},
   "outputs": [],
   "source": [
    "ecg_long_df[[\"HRV_SDNN_baseline\", \"HRV_SDNN_corrected\", \n",
    "        \"RSA_PorgesBohrer_baseline\", \"RSA_PorgesBohrer_corrected\",\n",
    "        \"heart_rate_bpm\", \"heart_rate_bpm_corrected\", \"segment_name\"]].hist(bins=30, figsize=(20, 15))"
   ]
  },
  {
   "cell_type": "code",
   "execution_count": null,
   "id": "dcc82ef9",
   "metadata": {},
   "outputs": [],
   "source": [
    "eda_long_df[[\"EDA_Tonic_Mean_baseline\", \"EDA_Tonic_Mean_blc\", \n",
    "        \"SCR_Peaks_N_per_seconds_baseline\", \"SCR_Peaks_N_per_seconds_blc\", \n",
    "        \"SCR_Peaks_Amplitude_Mean_baseline\", \"SCR_Peaks_Amplitude_Mean_blc\", \"segment_name\"]].hist(bins=30, figsize=(20, 15))"
   ]
  },
  {
   "cell_type": "markdown",
   "id": "da69782d",
   "metadata": {},
   "source": [
    "# Export Final dataset"
   ]
  },
  {
   "cell_type": "code",
   "execution_count": null,
   "id": "a70a51d0",
   "metadata": {},
   "outputs": [],
   "source": [
    "final_df.to_excel(FINAL_DATA_DIR / \"neuro-behavioral_data.xlsx\", index = False)"
   ]
  },
  {
   "cell_type": "code",
   "execution_count": null,
   "id": "5bb63941",
   "metadata": {},
   "outputs": [],
   "source": []
  }
 ],
 "metadata": {
  "kernelspec": {
   "display_name": "neuroprofile",
   "language": "python",
   "name": "python3"
  },
  "language_info": {
   "codemirror_mode": {
    "name": "ipython",
    "version": 3
   },
   "file_extension": ".py",
   "mimetype": "text/x-python",
   "name": "python",
   "nbconvert_exporter": "python",
   "pygments_lexer": "ipython3",
   "version": "3.10.14"
  }
 },
 "nbformat": 4,
 "nbformat_minor": 5
}
