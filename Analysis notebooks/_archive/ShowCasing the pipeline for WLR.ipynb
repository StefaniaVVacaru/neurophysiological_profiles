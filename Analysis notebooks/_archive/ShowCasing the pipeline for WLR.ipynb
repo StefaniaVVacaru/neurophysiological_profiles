{
 "cells": [
  {
   "cell_type": "markdown",
   "metadata": {},
   "source": [
    "# ShowCase ECG preprocessing and HRV analysis WeLoveReading\n",
    "\n",
    "### Purpose\n",
    "Purpose of this notebook is to preprocess the raw ECG data for the 'We Love Reading' study.\n",
    "\n",
    "- Neurokit2 package with a custom pipeline will be used for preprocessing\n",
    "- Segmentation is performed afterwards\n",
    "- QA figures will be exported for every partipant\n",
    "- The processed signal data will be exported\n",
    "- HRV metrics are computed and exported\n",
    "\n",
    "\n",
    "### Input / Output\n",
    "- Input: `~/data/raw`\n",
    "- Outputs:\n",
    "  - QA visualizations: `~/reports/ECG QA`\n",
    "  - Processed signal data and HRV metrics: `~/data/processed`\n",
    "  \n",
    "**Note**:\n",
    "- Output folders are created if they do not exist\n",
    "- Make sure the **filenames follows the following format**:\n",
    "  -  `[condition][id]_W[wavenumber]_mc.txt` for the ECG recordings\n",
    "  -  `[condition][id]_W[wavenumber]_event.txt` for the corresponding events\n",
    "  -  ...where \n",
    "     -  `[condition]` is a single letter\n",
    "     -  `[id]` is a number\n",
    "     -  `[wavenumber]` is a number \n",
    "  -  *Example*: B40_W3_mc.txt\n",
    "  -  Note that it is not case sensitive \n"
   ]
  },
  {
   "cell_type": "markdown",
   "metadata": {},
   "source": [
    "### Imports"
   ]
  },
  {
   "cell_type": "code",
   "execution_count": 1,
   "metadata": {},
   "outputs": [],
   "source": [
    "# fmt: off\n",
    "from pathlib import Path\n",
    "import numpy as np\n",
    "import importlib\n",
    "import neurokit2 as nk\n",
    "import sys\n",
    "sys.path.append(str(Path().cwd().parent/'src'))\n",
    "import utils.parameters as params\n",
    "import utils.common as common\n",
    "import utils.data_utils as data_utils\n",
    "import utils.nk_pipeline as nk_pipeline\n",
    "import app.analyse_we_love_reading as app \n",
    "importlib.reload(nk)\n",
    "importlib.reload(nk_pipeline)\n",
    "importlib.reload(params)\n",
    "importlib.reload(data_utils)\n",
    "importlib.reload(common)\n",
    "import matplotlib.pyplot as plt\n",
    "plt.ioff()  # Turn off interactive mode\n",
    "import pandas as pd\n",
    "# fmt:on"
   ]
  },
  {
   "cell_type": "markdown",
   "metadata": {},
   "source": [
    "# <span style=\"color:blue\">Apply the pipeline</span>"
   ]
  },
  {
   "cell_type": "markdown",
   "metadata": {},
   "source": [
    "In the following, we will show how the pipeline can be used at three different levels of abstraction.\n",
    "\n",
    "#### ShowCase 1: High-level Workflow\n",
    "Showcase 1 provides a high-level overview of the workflow. To demonstrate what the pipeline does, an exemplary dyad will be used and the following workflow will be executed:\n",
    "1. Defining the data files to be used and loading the ECG and event data.\n",
    "2. Splitting the data into a timeseries for the mother and the child, respectively.\n",
    "3. Loading (and specifying) the parameters used for segmenting the conditions and preprocessing the ECG data\n",
    "4. Preprocessing the ECG signals\n",
    "5. Segmenting the ECG signals\n",
    "6. Calculating HRV metrics \n",
    "\n",
    "#### ShowCase 2: Processing a dyad\n",
    "In ShowCase 2, most of the workflow shown in ShowCase 1 is encapsulated in a single function called process_dyad(), which makes the pipeline easier to use.\n",
    "\n",
    "#### ShowCase 3: Processing all dyads\n",
    "ShowCase 3 reveals the highest level of abstraction: processing and analysing all dyads using a single function called process_all_dyads().\n"
   ]
  },
  {
   "cell_type": "markdown",
   "metadata": {},
   "source": [
    "## Define Input and Output parameters"
   ]
  },
  {
   "cell_type": "code",
   "execution_count": 4,
   "metadata": {},
   "outputs": [],
   "source": [
    "WORKING_DIR = Path().cwd() # the current directory\n",
    "ROOT_DIR = WORKING_DIR.parent\n",
    "DATA_DIR = ROOT_DIR / 'data'\n",
    "RAW_DATA_DIR = DATA_DIR / 'wlr_raw'\n",
    "PROCESSED_DATA_DIR = DATA_DIR / 'processed' # where to save output data \n",
    "PROCESSED_DATA_DIR.mkdir(parents=False, exist_ok=True)\n",
    "QA_REPORTS_DIR = ROOT_DIR / \"reports\" / 'QA' # where to save QA visualizations\n",
    "QA_REPORTS_DIR.mkdir(parents=True, exist_ok=True) "
   ]
  },
  {
   "cell_type": "markdown",
   "metadata": {},
   "source": [
    "### <span style=\"color:red\">ShowCase 1: High-level Workflow</span>"
   ]
  },
  {
   "cell_type": "markdown",
   "metadata": {},
   "source": [
    "Loading the ECG and Event data from an exemplary dyad"
   ]
  },
  {
   "cell_type": "code",
   "execution_count": 6,
   "metadata": {},
   "outputs": [
    {
     "data": {
      "text/html": [
       "<div>\n",
       "<style scoped>\n",
       "    .dataframe tbody tr th:only-of-type {\n",
       "        vertical-align: middle;\n",
       "    }\n",
       "\n",
       "    .dataframe tbody tr th {\n",
       "        vertical-align: top;\n",
       "    }\n",
       "\n",
       "    .dataframe thead th {\n",
       "        text-align: right;\n",
       "    }\n",
       "</style>\n",
       "<table border=\"1\" class=\"dataframe\">\n",
       "  <thead>\n",
       "    <tr style=\"text-align: right;\">\n",
       "      <th></th>\n",
       "      <th>child_ecg</th>\n",
       "      <th>mother_ecg</th>\n",
       "      <th>event</th>\n",
       "      <th>event_description</th>\n",
       "    </tr>\n",
       "    <tr>\n",
       "      <th>seconds</th>\n",
       "      <th></th>\n",
       "      <th></th>\n",
       "      <th></th>\n",
       "      <th></th>\n",
       "    </tr>\n",
       "  </thead>\n",
       "  <tbody>\n",
       "    <tr>\n",
       "      <th>0.000</th>\n",
       "      <td>0.029664</td>\n",
       "      <td>-0.006464</td>\n",
       "      <td>NaN</td>\n",
       "      <td>NaN</td>\n",
       "    </tr>\n",
       "    <tr>\n",
       "      <th>0.002</th>\n",
       "      <td>0.029662</td>\n",
       "      <td>-0.006449</td>\n",
       "      <td>NaN</td>\n",
       "      <td>NaN</td>\n",
       "    </tr>\n",
       "    <tr>\n",
       "      <th>0.004</th>\n",
       "      <td>0.029667</td>\n",
       "      <td>-0.006456</td>\n",
       "      <td>NaN</td>\n",
       "      <td>NaN</td>\n",
       "    </tr>\n",
       "    <tr>\n",
       "      <th>0.006</th>\n",
       "      <td>0.029690</td>\n",
       "      <td>-0.006499</td>\n",
       "      <td>NaN</td>\n",
       "      <td>NaN</td>\n",
       "    </tr>\n",
       "    <tr>\n",
       "      <th>0.008</th>\n",
       "      <td>0.029683</td>\n",
       "      <td>-0.006529</td>\n",
       "      <td>NaN</td>\n",
       "      <td>NaN</td>\n",
       "    </tr>\n",
       "  </tbody>\n",
       "</table>\n",
       "</div>"
      ],
      "text/plain": [
       "         child_ecg  mother_ecg event event_description\n",
       "seconds                                               \n",
       "0.000     0.029664   -0.006464   NaN               NaN\n",
       "0.002     0.029662   -0.006449   NaN               NaN\n",
       "0.004     0.029667   -0.006456   NaN               NaN\n",
       "0.006     0.029690   -0.006499   NaN               NaN\n",
       "0.008     0.029683   -0.006529   NaN               NaN"
      ]
     },
     "execution_count": 6,
     "metadata": {},
     "output_type": "execute_result"
    }
   ],
   "source": [
    "ecg_filepath = RAW_DATA_DIR / \"b01_w2_mc.txt\"\n",
    "event_filepath = RAW_DATA_DIR / \"b01_w2_event.txt\"\n",
    "signal_event_df = data_utils.load_dyad_ecg_events(ecg_filepath, event_filepath)\n",
    "signal_event_df.head()"
   ]
  },
  {
   "cell_type": "markdown",
   "metadata": {},
   "source": [
    "Split the dataframe into two timeseries: mother and child"
   ]
  },
  {
   "cell_type": "code",
   "execution_count": 7,
   "metadata": {},
   "outputs": [
    {
     "data": {
      "text/plain": [
       "seconds\n",
       "0.000    0.029664\n",
       "0.002    0.029662\n",
       "0.004    0.029667\n",
       "0.006    0.029690\n",
       "0.008    0.029683\n",
       "Name: child_ecg, dtype: float64"
      ]
     },
     "metadata": {},
     "output_type": "display_data"
    },
    {
     "data": {
      "text/plain": [
       "seconds\n",
       "0.000   -0.006464\n",
       "0.002   -0.006449\n",
       "0.004   -0.006456\n",
       "0.006   -0.006499\n",
       "0.008   -0.006529\n",
       "Name: mother_ecg, dtype: float64"
      ]
     },
     "metadata": {},
     "output_type": "display_data"
    }
   ],
   "source": [
    "child_series, mother_series = data_utils.split_in_child_mother_series(signal_event_df)\n",
    "display(child_series.head())\n",
    "display(mother_series.head())"
   ]
  },
  {
   "cell_type": "markdown",
   "metadata": {},
   "source": [
    "Define the parameters used for preprocessing and segmentation"
   ]
  },
  {
   "cell_type": "code",
   "execution_count": 8,
   "metadata": {},
   "outputs": [],
   "source": [
    "dyad_id, condition, wave = data_utils.extract_subject_id_condition_from_filepath(ecg_filepath)\n",
    "parameters = params.base_params # load the default parameters"
   ]
  },
  {
   "cell_type": "code",
   "execution_count": 9,
   "metadata": {},
   "outputs": [],
   "source": [
    "# use the function configure_segmentation_params to configure the segmentation parameters for the dyad\n",
    "# use the function configure_ecg_params to configure the ECG preprocessing parameters for the mother and/or the child\n",
    "segmentation_params = params.configure_segmentation_params(dyad_id, parameters)\n",
    "child_params, mother_params = params.configure_ecg_params(dyad_id, segmentation_params.copy())"
   ]
  },
  {
   "cell_type": "markdown",
   "metadata": {},
   "source": [
    "Preprocess the ECG data and combine it again with the event data"
   ]
  },
  {
   "cell_type": "code",
   "execution_count": 10,
   "metadata": {},
   "outputs": [
    {
     "data": {
      "text/html": [
       "<div>\n",
       "<style scoped>\n",
       "    .dataframe tbody tr th:only-of-type {\n",
       "        vertical-align: middle;\n",
       "    }\n",
       "\n",
       "    .dataframe tbody tr th {\n",
       "        vertical-align: top;\n",
       "    }\n",
       "\n",
       "    .dataframe thead th {\n",
       "        text-align: right;\n",
       "    }\n",
       "</style>\n",
       "<table border=\"1\" class=\"dataframe\">\n",
       "  <thead>\n",
       "    <tr style=\"text-align: right;\">\n",
       "      <th></th>\n",
       "      <th>ECG_Clean</th>\n",
       "      <th>ECG_Raw</th>\n",
       "      <th>ECG_R_Peaks</th>\n",
       "    </tr>\n",
       "    <tr>\n",
       "      <th>seconds</th>\n",
       "      <th></th>\n",
       "      <th></th>\n",
       "      <th></th>\n",
       "    </tr>\n",
       "  </thead>\n",
       "  <tbody>\n",
       "    <tr>\n",
       "      <th>0.000</th>\n",
       "      <td>-0.000019</td>\n",
       "      <td>0.029664</td>\n",
       "      <td>0</td>\n",
       "    </tr>\n",
       "    <tr>\n",
       "      <th>0.002</th>\n",
       "      <td>-0.000017</td>\n",
       "      <td>0.029662</td>\n",
       "      <td>0</td>\n",
       "    </tr>\n",
       "    <tr>\n",
       "      <th>0.004</th>\n",
       "      <td>-0.000015</td>\n",
       "      <td>0.029667</td>\n",
       "      <td>0</td>\n",
       "    </tr>\n",
       "    <tr>\n",
       "      <th>0.006</th>\n",
       "      <td>-0.000013</td>\n",
       "      <td>0.029690</td>\n",
       "      <td>0</td>\n",
       "    </tr>\n",
       "    <tr>\n",
       "      <th>0.008</th>\n",
       "      <td>-0.000011</td>\n",
       "      <td>0.029683</td>\n",
       "      <td>0</td>\n",
       "    </tr>\n",
       "  </tbody>\n",
       "</table>\n",
       "</div>"
      ],
      "text/plain": [
       "         ECG_Clean   ECG_Raw  ECG_R_Peaks\n",
       "seconds                                  \n",
       "0.000    -0.000019  0.029664            0\n",
       "0.002    -0.000017  0.029662            0\n",
       "0.004    -0.000015  0.029667            0\n",
       "0.006    -0.000013  0.029690            0\n",
       "0.008    -0.000011  0.029683            0"
      ]
     },
     "execution_count": 10,
     "metadata": {},
     "output_type": "execute_result"
    }
   ],
   "source": [
    "# Preprocess\n",
    "child_signals_df = nk_pipeline.ecg_preprocess(child_series, child_params)\n",
    "mother_signals_df = nk_pipeline.ecg_preprocess(mother_series, mother_params)\n",
    "\n",
    "child_signals_df.head()"
   ]
  },
  {
   "cell_type": "code",
   "execution_count": 11,
   "metadata": {},
   "outputs": [
    {
     "data": {
      "text/html": [
       "<div>\n",
       "<style scoped>\n",
       "    .dataframe tbody tr th:only-of-type {\n",
       "        vertical-align: middle;\n",
       "    }\n",
       "\n",
       "    .dataframe tbody tr th {\n",
       "        vertical-align: top;\n",
       "    }\n",
       "\n",
       "    .dataframe thead th {\n",
       "        text-align: right;\n",
       "    }\n",
       "</style>\n",
       "<table border=\"1\" class=\"dataframe\">\n",
       "  <thead>\n",
       "    <tr style=\"text-align: right;\">\n",
       "      <th></th>\n",
       "      <th>ECG_Clean</th>\n",
       "      <th>ECG_Raw</th>\n",
       "      <th>ECG_R_Peaks</th>\n",
       "      <th>event</th>\n",
       "      <th>event_description</th>\n",
       "    </tr>\n",
       "    <tr>\n",
       "      <th>seconds</th>\n",
       "      <th></th>\n",
       "      <th></th>\n",
       "      <th></th>\n",
       "      <th></th>\n",
       "      <th></th>\n",
       "    </tr>\n",
       "  </thead>\n",
       "  <tbody>\n",
       "    <tr>\n",
       "      <th>79.340</th>\n",
       "      <td>-3.062538e-05</td>\n",
       "      <td>-0.030098</td>\n",
       "      <td>0</td>\n",
       "      <td>Keyboard:F1</td>\n",
       "      <td>baseline resting start</td>\n",
       "    </tr>\n",
       "    <tr>\n",
       "      <th>477.560</th>\n",
       "      <td>-1.487674e-04</td>\n",
       "      <td>-0.027758</td>\n",
       "      <td>0</td>\n",
       "      <td>Keyboard:F2</td>\n",
       "      <td>light switch</td>\n",
       "    </tr>\n",
       "    <tr>\n",
       "      <th>483.330</th>\n",
       "      <td>-2.167820e-05</td>\n",
       "      <td>-0.027525</td>\n",
       "      <td>0</td>\n",
       "      <td>Keyboard:F3</td>\n",
       "      <td>Book start</td>\n",
       "    </tr>\n",
       "    <tr>\n",
       "      <th>1339.472</th>\n",
       "      <td>9.833777e-07</td>\n",
       "      <td>-0.022009</td>\n",
       "      <td>0</td>\n",
       "      <td>Keyboard:F6</td>\n",
       "      <td>AKT start</td>\n",
       "    </tr>\n",
       "    <tr>\n",
       "      <th>1387.820</th>\n",
       "      <td>8.832925e-05</td>\n",
       "      <td>-0.021598</td>\n",
       "      <td>0</td>\n",
       "      <td>Keyboard:F4</td>\n",
       "      <td>stroop mother start</td>\n",
       "    </tr>\n",
       "  </tbody>\n",
       "</table>\n",
       "</div>"
      ],
      "text/plain": [
       "             ECG_Clean   ECG_Raw  ECG_R_Peaks        event  \\\n",
       "seconds                                                      \n",
       "79.340   -3.062538e-05 -0.030098            0  Keyboard:F1   \n",
       "477.560  -1.487674e-04 -0.027758            0  Keyboard:F2   \n",
       "483.330  -2.167820e-05 -0.027525            0  Keyboard:F3   \n",
       "1339.472  9.833777e-07 -0.022009            0  Keyboard:F6   \n",
       "1387.820  8.832925e-05 -0.021598            0  Keyboard:F4   \n",
       "\n",
       "               event_description  \n",
       "seconds                           \n",
       "79.340    baseline resting start  \n",
       "477.560             light switch  \n",
       "483.330               Book start  \n",
       "1339.472               AKT start  \n",
       "1387.820     stroop mother start  "
      ]
     },
     "execution_count": 11,
     "metadata": {},
     "output_type": "execute_result"
    }
   ],
   "source": [
    "# Combine with event data\n",
    "child_signal_event_df = child_signals_df.merge(signal_event_df[[\"event\", \"event_description\"]], left_index=True, right_index=True, how = \"left\")\n",
    "mother_signal_event_df = mother_signals_df.merge(signal_event_df[[\"event\", \"event_description\"]], left_index=True, right_index=True, how = \"left\")\n",
    "\n",
    "child_signal_event_df[~pd.isna(child_signal_event_df[\"event_description\"])].head()"
   ]
  },
  {
   "cell_type": "markdown",
   "metadata": {},
   "source": [
    "Segment the preprocessed data based on the information provided in the parameters"
   ]
  },
  {
   "cell_type": "code",
   "execution_count": 12,
   "metadata": {},
   "outputs": [
    {
     "name": "stdout",
     "output_type": "stream",
     "text": [
      "Segment 1\n"
     ]
    },
    {
     "data": {
      "text/html": [
       "<div>\n",
       "<style scoped>\n",
       "    .dataframe tbody tr th:only-of-type {\n",
       "        vertical-align: middle;\n",
       "    }\n",
       "\n",
       "    .dataframe tbody tr th {\n",
       "        vertical-align: top;\n",
       "    }\n",
       "\n",
       "    .dataframe thead th {\n",
       "        text-align: right;\n",
       "    }\n",
       "</style>\n",
       "<table border=\"1\" class=\"dataframe\">\n",
       "  <thead>\n",
       "    <tr style=\"text-align: right;\">\n",
       "      <th></th>\n",
       "      <th>ECG_Clean</th>\n",
       "      <th>ECG_Raw</th>\n",
       "      <th>ECG_R_Peaks</th>\n",
       "      <th>event</th>\n",
       "      <th>event_description</th>\n",
       "    </tr>\n",
       "    <tr>\n",
       "      <th>seconds</th>\n",
       "      <th></th>\n",
       "      <th></th>\n",
       "      <th></th>\n",
       "      <th></th>\n",
       "      <th></th>\n",
       "    </tr>\n",
       "  </thead>\n",
       "  <tbody>\n",
       "    <tr>\n",
       "      <th>79.340</th>\n",
       "      <td>-0.000031</td>\n",
       "      <td>-0.030098</td>\n",
       "      <td>0</td>\n",
       "      <td>Keyboard:F1</td>\n",
       "      <td>baseline resting start</td>\n",
       "    </tr>\n",
       "    <tr>\n",
       "      <th>79.342</th>\n",
       "      <td>-0.000014</td>\n",
       "      <td>-0.030131</td>\n",
       "      <td>0</td>\n",
       "      <td>NaN</td>\n",
       "      <td>NaN</td>\n",
       "    </tr>\n",
       "    <tr>\n",
       "      <th>79.344</th>\n",
       "      <td>0.000009</td>\n",
       "      <td>-0.030160</td>\n",
       "      <td>0</td>\n",
       "      <td>NaN</td>\n",
       "      <td>NaN</td>\n",
       "    </tr>\n",
       "  </tbody>\n",
       "</table>\n",
       "</div>"
      ],
      "text/plain": [
       "         ECG_Clean   ECG_Raw  ECG_R_Peaks        event       event_description\n",
       "seconds                                                                       \n",
       "79.340   -0.000031 -0.030098            0  Keyboard:F1  baseline resting start\n",
       "79.342   -0.000014 -0.030131            0          NaN                     NaN\n",
       "79.344    0.000009 -0.030160            0          NaN                     NaN"
      ]
     },
     "metadata": {},
     "output_type": "display_data"
    },
    {
     "name": "stdout",
     "output_type": "stream",
     "text": [
      "Segment 2\n"
     ]
    },
    {
     "data": {
      "text/html": [
       "<div>\n",
       "<style scoped>\n",
       "    .dataframe tbody tr th:only-of-type {\n",
       "        vertical-align: middle;\n",
       "    }\n",
       "\n",
       "    .dataframe tbody tr th {\n",
       "        vertical-align: top;\n",
       "    }\n",
       "\n",
       "    .dataframe thead th {\n",
       "        text-align: right;\n",
       "    }\n",
       "</style>\n",
       "<table border=\"1\" class=\"dataframe\">\n",
       "  <thead>\n",
       "    <tr style=\"text-align: right;\">\n",
       "      <th></th>\n",
       "      <th>ECG_Clean</th>\n",
       "      <th>ECG_Raw</th>\n",
       "      <th>ECG_R_Peaks</th>\n",
       "      <th>event</th>\n",
       "      <th>event_description</th>\n",
       "    </tr>\n",
       "    <tr>\n",
       "      <th>seconds</th>\n",
       "      <th></th>\n",
       "      <th></th>\n",
       "      <th></th>\n",
       "      <th></th>\n",
       "      <th></th>\n",
       "    </tr>\n",
       "  </thead>\n",
       "  <tbody>\n",
       "    <tr>\n",
       "      <th>483.330</th>\n",
       "      <td>-0.000022</td>\n",
       "      <td>-0.027525</td>\n",
       "      <td>0</td>\n",
       "      <td>Keyboard:F3</td>\n",
       "      <td>Book start</td>\n",
       "    </tr>\n",
       "    <tr>\n",
       "      <th>483.332</th>\n",
       "      <td>-0.000021</td>\n",
       "      <td>-0.027533</td>\n",
       "      <td>0</td>\n",
       "      <td>NaN</td>\n",
       "      <td>NaN</td>\n",
       "    </tr>\n",
       "    <tr>\n",
       "      <th>483.334</th>\n",
       "      <td>-0.000021</td>\n",
       "      <td>-0.027527</td>\n",
       "      <td>0</td>\n",
       "      <td>NaN</td>\n",
       "      <td>NaN</td>\n",
       "    </tr>\n",
       "  </tbody>\n",
       "</table>\n",
       "</div>"
      ],
      "text/plain": [
       "         ECG_Clean   ECG_Raw  ECG_R_Peaks        event event_description\n",
       "seconds                                                                 \n",
       "483.330  -0.000022 -0.027525            0  Keyboard:F3        Book start\n",
       "483.332  -0.000021 -0.027533            0          NaN               NaN\n",
       "483.334  -0.000021 -0.027527            0          NaN               NaN"
      ]
     },
     "metadata": {},
     "output_type": "display_data"
    }
   ],
   "source": [
    "child_segments_df_list = data_utils.segment_df(child_signal_event_df, segmentation_params)\n",
    "mother_segments_df_list = data_utils.segment_df(mother_signal_event_df, segmentation_params)\n",
    "\n",
    "# The result is a list with dataframes: one dataframe per segment\n",
    "print(\"Segment 1\")\n",
    "display(child_segments_df_list[0].head(3))\n",
    "print(\"Segment 2\")\n",
    "display(child_segments_df_list[1].head(3))"
   ]
  },
  {
   "cell_type": "markdown",
   "metadata": {},
   "source": [
    "Calculate HRV metrics and create QA-plots\n",
    "\n",
    "*Note that HRV metrics are calculated in windows of e.g., 30 seconds within a segment. The duration of the analysis window is defined in the parameters.*"
   ]
  },
  {
   "cell_type": "code",
   "execution_count": 55,
   "metadata": {},
   "outputs": [
    {
     "name": "stderr",
     "output_type": "stream",
     "text": [
      "/Users/lukasspiess/anaconda3/envs/neuroprofile/lib/python3.10/site-packages/numpy/lib/nanfunctions.py:1879: RuntimeWarning: Degrees of freedom <= 0 for slice.\n",
      "  var = nanvar(a, axis=axis, dtype=dtype, out=out, ddof=ddof,\n"
     ]
    },
    {
     "data": {
      "text/html": [
       "<div>\n",
       "<style scoped>\n",
       "    .dataframe tbody tr th:only-of-type {\n",
       "        vertical-align: middle;\n",
       "    }\n",
       "\n",
       "    .dataframe tbody tr th {\n",
       "        vertical-align: top;\n",
       "    }\n",
       "\n",
       "    .dataframe thead th {\n",
       "        text-align: right;\n",
       "    }\n",
       "</style>\n",
       "<table border=\"1\" class=\"dataframe\">\n",
       "  <thead>\n",
       "    <tr style=\"text-align: right;\">\n",
       "      <th></th>\n",
       "      <th>HRV_MeanNN</th>\n",
       "      <th>HRV_SDNN</th>\n",
       "      <th>HRV_SDANN1</th>\n",
       "      <th>HRV_SDNNI1</th>\n",
       "      <th>HRV_SDANN2</th>\n",
       "      <th>HRV_SDNNI2</th>\n",
       "      <th>HRV_SDANN5</th>\n",
       "      <th>HRV_SDNNI5</th>\n",
       "      <th>HRV_RMSSD</th>\n",
       "      <th>HRV_SDSD</th>\n",
       "      <th>...</th>\n",
       "      <th>HRV_pNN20</th>\n",
       "      <th>HRV_MinNN</th>\n",
       "      <th>HRV_MaxNN</th>\n",
       "      <th>HRV_HTI</th>\n",
       "      <th>HRV_TINN</th>\n",
       "      <th>start_index</th>\n",
       "      <th>stop_index</th>\n",
       "      <th>analysis_window</th>\n",
       "      <th>heart_rate_bpm</th>\n",
       "      <th>segment_name</th>\n",
       "    </tr>\n",
       "  </thead>\n",
       "  <tbody>\n",
       "    <tr>\n",
       "      <th>0</th>\n",
       "      <td>512.551724</td>\n",
       "      <td>12.310561</td>\n",
       "      <td>NaN</td>\n",
       "      <td>NaN</td>\n",
       "      <td>NaN</td>\n",
       "      <td>NaN</td>\n",
       "      <td>NaN</td>\n",
       "      <td>NaN</td>\n",
       "      <td>12.377115</td>\n",
       "      <td>12.481063</td>\n",
       "      <td>...</td>\n",
       "      <td>8.620690</td>\n",
       "      <td>486.0</td>\n",
       "      <td>540.0</td>\n",
       "      <td>3.222222</td>\n",
       "      <td>46.8750</td>\n",
       "      <td>79.34</td>\n",
       "      <td>109.338</td>\n",
       "      <td>0</td>\n",
       "      <td>118.0</td>\n",
       "      <td>baseline resting start</td>\n",
       "    </tr>\n",
       "    <tr>\n",
       "      <th>1</th>\n",
       "      <td>507.068966</td>\n",
       "      <td>12.111850</td>\n",
       "      <td>NaN</td>\n",
       "      <td>NaN</td>\n",
       "      <td>NaN</td>\n",
       "      <td>NaN</td>\n",
       "      <td>NaN</td>\n",
       "      <td>NaN</td>\n",
       "      <td>12.599081</td>\n",
       "      <td>12.703975</td>\n",
       "      <td>...</td>\n",
       "      <td>8.620690</td>\n",
       "      <td>482.0</td>\n",
       "      <td>538.0</td>\n",
       "      <td>3.625000</td>\n",
       "      <td>46.8750</td>\n",
       "      <td>109.34</td>\n",
       "      <td>139.338</td>\n",
       "      <td>1</td>\n",
       "      <td>118.0</td>\n",
       "      <td>baseline resting start</td>\n",
       "    </tr>\n",
       "    <tr>\n",
       "      <th>2</th>\n",
       "      <td>511.551724</td>\n",
       "      <td>10.184564</td>\n",
       "      <td>NaN</td>\n",
       "      <td>NaN</td>\n",
       "      <td>NaN</td>\n",
       "      <td>NaN</td>\n",
       "      <td>NaN</td>\n",
       "      <td>NaN</td>\n",
       "      <td>10.529824</td>\n",
       "      <td>10.622481</td>\n",
       "      <td>...</td>\n",
       "      <td>1.724138</td>\n",
       "      <td>490.0</td>\n",
       "      <td>538.0</td>\n",
       "      <td>3.411765</td>\n",
       "      <td>39.0625</td>\n",
       "      <td>139.34</td>\n",
       "      <td>169.338</td>\n",
       "      <td>2</td>\n",
       "      <td>118.0</td>\n",
       "      <td>baseline resting start</td>\n",
       "    </tr>\n",
       "  </tbody>\n",
       "</table>\n",
       "<p>3 rows × 30 columns</p>\n",
       "</div>"
      ],
      "text/plain": [
       "   HRV_MeanNN   HRV_SDNN  HRV_SDANN1  HRV_SDNNI1  HRV_SDANN2  HRV_SDNNI2  \\\n",
       "0  512.551724  12.310561         NaN         NaN         NaN         NaN   \n",
       "1  507.068966  12.111850         NaN         NaN         NaN         NaN   \n",
       "2  511.551724  10.184564         NaN         NaN         NaN         NaN   \n",
       "\n",
       "   HRV_SDANN5  HRV_SDNNI5  HRV_RMSSD   HRV_SDSD  ...  HRV_pNN20  HRV_MinNN  \\\n",
       "0         NaN         NaN  12.377115  12.481063  ...   8.620690      486.0   \n",
       "1         NaN         NaN  12.599081  12.703975  ...   8.620690      482.0   \n",
       "2         NaN         NaN  10.529824  10.622481  ...   1.724138      490.0   \n",
       "\n",
       "   HRV_MaxNN   HRV_HTI  HRV_TINN  start_index  stop_index  analysis_window  \\\n",
       "0      540.0  3.222222   46.8750        79.34     109.338                0   \n",
       "1      538.0  3.625000   46.8750       109.34     139.338                1   \n",
       "2      538.0  3.411765   39.0625       139.34     169.338                2   \n",
       "\n",
       "   heart_rate_bpm            segment_name  \n",
       "0           118.0  baseline resting start  \n",
       "1           118.0  baseline resting start  \n",
       "2           118.0  baseline resting start  \n",
       "\n",
       "[3 rows x 30 columns]"
      ]
     },
     "metadata": {},
     "output_type": "display_data"
    }
   ],
   "source": [
    "# Compute windowed HRV metrics per segment and subject\n",
    "hrv_child_df, ecg_child_df = app.compute_windowed_hrv_across_segments(\n",
    "    segments_df_list=child_segments_df_list,\n",
    "    parameters=child_params,\n",
    "    figure_output_dir=QA_REPORTS_DIR,\n",
    "    data_output_dir=PROCESSED_DATA_DIR,\n",
    "    subject_pair=\"child\",\n",
    "    create_qa_plots=False\n",
    ")\n",
    "\n",
    "\n",
    "hrv_mother_df, ecg_mother_df = app.compute_windowed_hrv_across_segments(\n",
    "    segments_df_list=mother_segments_df_list,\n",
    "    parameters=mother_params,\n",
    "    figure_output_dir=QA_REPORTS_DIR,\n",
    "    data_output_dir=PROCESSED_DATA_DIR,\n",
    "    subject_pair=\"mother\",\n",
    "    create_qa_plots=False\n",
    ")\n",
    "\n",
    "display(hrv_child_df.head(3))"
   ]
  },
  {
   "cell_type": "markdown",
   "metadata": {},
   "source": [
    "### <span style=\"color:red\">ShowCase 2: Process a single dyad</span>\n",
    "\n",
    "**Below an example for how to process and analyse the data from a single dyad.**"
   ]
  },
  {
   "cell_type": "markdown",
   "metadata": {},
   "source": [
    "Read all ECG datafiles in the Raw data directory"
   ]
  },
  {
   "cell_type": "code",
   "execution_count": 15,
   "metadata": {},
   "outputs": [],
   "source": [
    "ecg_filepaths = np.sort(list(RAW_DATA_DIR.glob('*mc.txt')))\n",
    "# [print(f) for f in ecg_filepaths];\n",
    "# [print(data_utils.extract_subject_id_condition_from_filepath(f)) for f in ecg_filepaths];"
   ]
  },
  {
   "cell_type": "markdown",
   "metadata": {},
   "source": [
    "Read all Event datafiles in the Raw data directory"
   ]
  },
  {
   "cell_type": "code",
   "execution_count": 16,
   "metadata": {},
   "outputs": [],
   "source": [
    "event_filepaths = np.sort(list(RAW_DATA_DIR.glob('*event.txt')))\n",
    "# [print(f) for f in event_filepaths];\n",
    "# [print(data_utils.extract_subject_id_condition_from_filepath(f)) for f in event_filepaths];"
   ]
  },
  {
   "cell_type": "code",
   "execution_count": 17,
   "metadata": {},
   "outputs": [
    {
     "name": "stderr",
     "output_type": "stream",
     "text": [
      "/Users/lukasspiess/anaconda3/envs/neuroprofile/lib/python3.10/site-packages/numpy/lib/nanfunctions.py:1879: RuntimeWarning: Degrees of freedom <= 0 for slice.\n",
      "  var = nanvar(a, axis=axis, dtype=dtype, out=out, ddof=ddof,\n"
     ]
    }
   ],
   "source": [
    "file_index = 0 # whether to process the first, second, third etc. recording\n",
    "\n",
    "# Preprocess the data, compute HRV metrics and save the output\n",
    "app.process_dyad(\n",
    "    ecg_filepath=ecg_filepaths[file_index],\n",
    "    event_filepath=event_filepaths[file_index],\n",
    "    parameters=params.base_params,\n",
    "    data_output_dir=PROCESSED_DATA_DIR,\n",
    "    figure_output_dir=QA_REPORTS_DIR,\n",
    "    create_qa_plots=True\n",
    ")"
   ]
  },
  {
   "cell_type": "markdown",
   "metadata": {},
   "source": [
    "### <span style=\"color:red\">ShowCase 3: Process all dyads</span>\n",
    "\n",
    "### \n",
    "\n",
    "**Below an example for how to process all dyads, one after another**.  \n",
    "Much of the preparations needed to process a single dyad is incorporated in the function `app.process_all_dyads()`. In addition, a log file is created in `~/`"
   ]
  },
  {
   "cell_type": "code",
   "execution_count": null,
   "metadata": {},
   "outputs": [],
   "source": [
    "app.process_all_dyads(\n",
    "    raw_data_dir=RAW_DATA_DIR,\n",
    "    processed_data_dir=PROCESSED_DATA_DIR,\n",
    "    reports_dir=QA_REPORTS_DIR,\n",
    ")"
   ]
  }
 ],
 "metadata": {
  "kernelspec": {
   "display_name": "neuroprofile",
   "language": "python",
   "name": "python3"
  },
  "language_info": {
   "codemirror_mode": {
    "name": "ipython",
    "version": 3
   },
   "file_extension": ".py",
   "mimetype": "text/x-python",
   "name": "python",
   "nbconvert_exporter": "python",
   "pygments_lexer": "ipython3",
   "version": "3.10.14"
  }
 },
 "nbformat": 4,
 "nbformat_minor": 2
}
